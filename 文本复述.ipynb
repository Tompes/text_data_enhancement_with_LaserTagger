{
  "cells": [
    {
      "cell_type": "markdown",
      "metadata": {
        "id": "ZtOE-T-Ciz3b"
      },
      "source": [
        "## 挂载网盘"
      ]
    },
    {
      "cell_type": "code",
      "execution_count": null,
      "metadata": {
        "id": "867kRD3CivD8"
      },
      "outputs": [],
      "source": [
        "from google.colab import drive\n",
        "drive.mount('/content/drive')"
      ]
    },
    {
      "cell_type": "code",
      "execution_count": null,
      "metadata": {
        "id": "R9AA7h27rcAc"
      },
      "outputs": [],
      "source": [
        "!mkdir /content/drive/MyDrive/rephrase/\n",
        "!mkdir /content/drive/MyDrive/rephrase/output\n",
        "!mkdir /content/drive/MyDrive/rephrase/output/models\n",
        "!mkdir /content/drive/MyDrive/rephrase/output/models/wikisplit_experiment_name\n",
        "!mkdir /content/drive/MyDrive/rephrase/output/models/wikisplit_experiment_name/export\n",
        "!touch /content/drive/MyDrive/rephrase/output/models/wikisplit_experiment_name/pred.tsv"
      ]
    },
    {
      "cell_type": "markdown",
      "metadata": {
        "id": "NpubVyPLjvI5"
      },
      "source": [
        "## Clone代码"
      ]
    },
    {
      "cell_type": "code",
      "execution_count": null,
      "metadata": {
        "id": "7uvnMvwfjMjT"
      },
      "outputs": [],
      "source": [
        "!cd /content/\n",
        "!git clone https://github.com/Tompes/text_data_enhancement_with_LaserTagger"
      ]
    },
    {
      "cell_type": "markdown",
      "metadata": {
        "id": "421fqfcmiC-O"
      },
      "source": [
        "## 安装依赖\n"
      ]
    },
    {
      "cell_type": "code",
      "execution_count": null,
      "metadata": {
        "id": "JB_jPnJCh7lh"
      },
      "outputs": [],
      "source": [
        "#!apt install nvidia-cuda-toolkit -y\n",
        "#!apt --fix-broken install\n",
        "!pip uninstall tensorflow -y\n",
        "!pip uninstall tensorflow-gpu -y\n",
        "!pip install -r /content/text_data_enhancement_with_LaserTagger/requirements.txt"
      ]
    },
    {
      "cell_type": "markdown",
      "source": [
        "## 查看GPU"
      ],
      "metadata": {
        "id": "qjrUNBqIJiSj"
      }
    },
    {
      "cell_type": "code",
      "source": [
        "!nvidia-smi"
      ],
      "metadata": {
        "id": "kx7m1sQqJhiy"
      },
      "execution_count": null,
      "outputs": []
    },
    {
      "cell_type": "markdown",
      "metadata": {
        "id": "dF1ZDCvTk2lT"
      },
      "source": [
        "## 下载预训练模型"
      ]
    },
    {
      "cell_type": "code",
      "execution_count": null,
      "metadata": {
        "id": "Wvi0gN2hk3vJ"
      },
      "outputs": [],
      "source": [
        "!cd /content/\n",
        "!mkdir /content/RoBERTa\n",
        "!wget https://storage.googleapis.com/cluebenchmark/pretrained_models/RoBERTa-tiny-clue.zip -P /content/RoBERTa\n",
        "!cd RoBERTa/\n",
        "!unzip /content/RoBERTa/RoBERTa-tiny-clue.zip -d /content/RoBERTa"
      ]
    },
    {
      "cell_type": "markdown",
      "source": [
        "## (删除模型目录)别手贱"
      ],
      "metadata": {
        "id": "UUceIZ-HGCw7"
      }
    },
    {
      "cell_type": "code",
      "execution_count": null,
      "metadata": {
        "id": "qkqikROw-5sM"
      },
      "outputs": [],
      "source": [
        "!rm -rf /content/drive/MyDrive/rephrase/output"
      ]
    },
    {
      "cell_type": "markdown",
      "metadata": {
        "id": "Q9C-WcvGncwY"
      },
      "source": [
        "## 开整"
      ]
    },
    {
      "cell_type": "code",
      "execution_count": null,
      "metadata": {
        "id": "MoT0mqVYnc9f"
      },
      "outputs": [],
      "source": [
        "!bash /content/text_data_enhancement_with_LaserTagger/rephrase.sh"
      ]
    },
    {
      "cell_type": "markdown",
      "source": [
        "## 看看效果"
      ],
      "metadata": {
        "id": "Bu5U5srHfgAA"
      }
    },
    {
      "cell_type": "code",
      "source": [
        "!python /content/text_data_enhancement_with_LaserTagger/test_predict.py"
      ],
      "metadata": {
        "id": "8UPlrQDfcJzC"
      },
      "execution_count": null,
      "outputs": []
    }
  ],
  "metadata": {
    "accelerator": "TPU",
    "colab": {
      "collapsed_sections": [],
      "name": "文本复述.ipynb",
      "provenance": [],
      "private_outputs": true
    },
    "kernelspec": {
      "display_name": "Python 3",
      "name": "python3"
    },
    "language_info": {
      "name": "python"
    }
  },
  "nbformat": 4,
  "nbformat_minor": 0
}